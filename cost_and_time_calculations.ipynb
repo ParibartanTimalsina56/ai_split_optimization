{
 "cells": [
  {
   "cell_type": "code",
   "execution_count": 2,
   "id": "09690540",
   "metadata": {},
   "outputs": [
    {
     "name": "stdout",
     "output_type": "stream",
     "text": [
      "\n",
      "Model: openai/gpt-4.1-mini\n",
      "  Non-Batched: Average Cost = $0.067366\n",
      "  Strict-Batched: Average Cost = $0.069643\n",
      "  Spread-Batched: Average Cost = $0.085359\n",
      "\n",
      "Model: google/gemini-2.5-flash-preview\n",
      "  Non-Batched: Average Cost = $0.029559\n",
      "  Strict-Batched: Average Cost = $0.029967\n",
      "  Spread-Batched: Average Cost = $0.036742\n",
      "\n",
      "Model: google/gemini-2.0-flash-001\n",
      "  Non-Batched: Average Cost = $0.018723\n",
      "  Strict-Batched: Average Cost = $0.018755\n",
      "  Spread-Batched: Average Cost = $0.022966\n"
     ]
    }
   ],
   "source": [
    "from collections import defaultdict\n",
    "import re\n",
    "\n",
    "# File path\n",
    "file_path = \"batching_and_splitting/cost_log.txt\"\n",
    "\n",
    "# Structure: {model: {type: [costs]}}\n",
    "model_costs = defaultdict(lambda: defaultdict(list))\n",
    "\n",
    "with open(file_path, \"r\") as f:\n",
    "    for line in f:\n",
    "        # Extract model, batching type, and cost using regex\n",
    "        match = re.search(r\"^(.*?)\\s+\\|\\s+.*?\\|\\s+(Non-Batched|Strict-Batched|Spread-Batched)\\s+\\|.*?Cost:\\s+\\$(\\d+\\.\\d+)\", line)\n",
    "        if match:\n",
    "            model, batch_type, cost = match.groups()\n",
    "            model = model.strip()\n",
    "            cost = float(cost)\n",
    "            model_costs[model][batch_type].append(cost)\n",
    "\n",
    "# Compute averages and print results\n",
    "for model, batch_data in model_costs.items():\n",
    "    print(f\"\\nModel: {model}\")\n",
    "    for batch_type, costs in batch_data.items():\n",
    "        avg_cost = sum(costs) / len(costs)\n",
    "        print(f\"  {batch_type}: Average Cost = ${avg_cost:.6f}\")\n"
   ]
  },
  {
   "cell_type": "code",
   "execution_count": null,
   "id": "ea1b6e7a",
   "metadata": {},
   "outputs": [
    {
     "name": "stdout",
     "output_type": "stream",
     "text": [
      "\n",
      "Model: openai/gpt-4.1-mini\n",
      "  Non-Batched: Average Time Taken = 44.90 seconds\n",
      "  Strict-Batched: Average Time Taken = 25.62 seconds\n",
      "  Spread-Batched: Average Time Taken = 25.97 seconds\n",
      "\n",
      "Model: google/gemini-2.5-flash-preview\n",
      "  Non-Batched: Average Time Taken = 21.25 seconds\n",
      "  Strict-Batched: Average Time Taken = 11.48 seconds\n",
      "  Spread-Batched: Average Time Taken = 11.59 seconds\n",
      "\n",
      "Model: google/gemini-2.0-flash-001\n",
      "  Non-Batched: Average Time Taken = 20.73 seconds\n",
      "  Strict-Batched: Average Time Taken = 10.48 seconds\n",
      "  Spread-Batched: Average Time Taken = 10.63 seconds\n"
     ]
    }
   ],
   "source": [
    "# File path\n",
    "file_path = \"batching_and_splitting/time_log.txt\"\n",
    "\n",
    "# Structure: {model: {batch_type: [times]}}\n",
    "model_times = defaultdict(lambda: defaultdict(list))\n",
    "\n",
    "with open(file_path, \"r\") as f:\n",
    "    for line in f:\n",
    "        # Extract model, batching type, and time using regex\n",
    "        match = re.search(r\"^(.*?)\\s+\\|\\s+.*?\\|\\s+(Non-Batched|Strict-Batched|Spread-Batched)\\s+\\|\\s+Time Taken:\\s+([\\d.]+)\", line)\n",
    "        if match:\n",
    "            model, batch_type, time_taken = match.groups()\n",
    "            model = model.strip()\n",
    "            time_taken = float(time_taken)\n",
    "            model_times[model][batch_type].append(time_taken)\n",
    "\n",
    "# Compute averages and print results\n",
    "for model, batch_data in model_times.items():\n",
    "    print(f\"\\nModel: {model}\")\n",
    "    for batch_type, times in batch_data.items():\n",
    "        avg_time = sum(times) / len(times)\n",
    "        print(f\"  {batch_type}: Average Time Taken = {avg_time:.2f} seconds\")\n"
   ]
  },
  {
   "cell_type": "code",
   "execution_count": null,
   "id": "52325a68",
   "metadata": {},
   "outputs": [],
   "source": []
  }
 ],
 "metadata": {
  "kernelspec": {
   "display_name": "docsumoenv",
   "language": "python",
   "name": "python3"
  },
  "language_info": {
   "codemirror_mode": {
    "name": "ipython",
    "version": 3
   },
   "file_extension": ".py",
   "mimetype": "text/x-python",
   "name": "python",
   "nbconvert_exporter": "python",
   "pygments_lexer": "ipython3",
   "version": "3.12.3"
  }
 },
 "nbformat": 4,
 "nbformat_minor": 5
}
